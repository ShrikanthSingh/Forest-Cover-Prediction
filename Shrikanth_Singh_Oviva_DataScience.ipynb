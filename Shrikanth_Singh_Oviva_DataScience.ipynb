{
  "nbformat": 4,
  "nbformat_minor": 0,
  "metadata": {
    "colab": {
      "name": "Shrikanth_Singh_Oviva_DataScience.ipynb",
      "provenance": [],
      "collapsed_sections": []
    },
    "kernelspec": {
      "name": "python3",
      "display_name": "Python 3"
    }
  },
  "cells": [
    {
      "cell_type": "code",
      "metadata": {
        "id": "Xg-JMDIv79IX",
        "colab_type": "code",
        "colab": {}
      },
      "source": [
        "import numpy as np\n",
        "import sklearn.datasets\n",
        "import sklearn.linear_model\n",
        "import sklearn.metrics"
      ],
      "execution_count": 0,
      "outputs": []
    },
    {
      "cell_type": "code",
      "metadata": {
        "id": "68T6rhEf8Hlj",
        "colab_type": "code",
        "colab": {}
      },
      "source": [
        "np.random.seed(42)  # do not change for reproducibility"
      ],
      "execution_count": 0,
      "outputs": []
    },
    {
      "cell_type": "markdown",
      "metadata": {
        "id": "iz5eO1879xIe",
        "colab_type": "text"
      },
      "source": [
        "In this test we use the [Covertype Data Set](http://archive.ics.uci.edu/ml/datasets/Covertype), a dataset describing cartographic \n",
        "features of areas of land in the USA and also its forest type according to the US Forest Service. \n",
        "There are seven classes (1-7), 581012 samples and 54 features.\n",
        "For this test, we're only interested in cover type 3.\n",
        "\n",
        "\n"
      ]
    },
    {
      "cell_type": "code",
      "metadata": {
        "id": "cG8T67QL92T9",
        "colab_type": "code",
        "colab": {
          "base_uri": "https://localhost:8080/",
          "height": 35
        },
        "outputId": "99cbeb11-4f8f-4ede-846b-c9deb15bc89c"
      },
      "source": [
        "dataset = sklearn.datasets.fetch_covtype()"
      ],
      "execution_count": 4,
      "outputs": [
        {
          "output_type": "stream",
          "text": [
            "Downloading https://ndownloader.figshare.com/files/5976039\n"
          ],
          "name": "stderr"
        }
      ]
    },
    {
      "cell_type": "code",
      "metadata": {
        "id": "gCScXzzy95ui",
        "colab_type": "code",
        "colab": {}
      },
      "source": [
        "# only use a random subset for speed - pretend the rest of the data doesn't exist\n",
        "random_sample = np.random.choice(len(dataset.data), len(dataset.data) // 10)\n",
        "\n",
        "COVER_TYPE = 3\n",
        "features = dataset.data[random_sample, :]\n",
        "target = dataset.target[random_sample] == COVER_TYPE"
      ],
      "execution_count": 0,
      "outputs": []
    },
    {
      "cell_type": "markdown",
      "metadata": {
        "id": "Zmlgj_j49-jy",
        "colab_type": "text"
      },
      "source": [
        "A junior colleague tells you that they're getting 96% accuracy using logistic regression. You review their work and see the following:"
      ]
    },
    {
      "cell_type": "code",
      "metadata": {
        "id": "N3VlK7hu-B0u",
        "colab_type": "code",
        "colab": {}
      },
      "source": [
        "classifier = sklearn.linear_model.LogisticRegression(solver='liblinear') # do not change this\n"
      ],
      "execution_count": 0,
      "outputs": []
    },
    {
      "cell_type": "code",
      "metadata": {
        "id": "esZ06BmLfQL0",
        "colab_type": "code",
        "colab": {}
      },
      "source": [
        "classifier.fit(features,  target)\n",
        "training_predictions = classifier.predict(features)\n",
        "accuracy = sklearn.metrics.accuracy_score(training_predictions, target)"
      ],
      "execution_count": 0,
      "outputs": []
    },
    {
      "cell_type": "code",
      "metadata": {
        "id": "VFTSg5We-CLq",
        "colab_type": "code",
        "outputId": "08ae7c55-4e9d-4c2d-a42f-65b4abfe83ba",
        "colab": {
          "base_uri": "https://localhost:8080/",
          "height": 35
        }
      },
      "source": [
        "print(f'Accuracy: {accuracy:.3f}')"
      ],
      "execution_count": 34,
      "outputs": [
        {
          "output_type": "stream",
          "text": [
            "Accuracy: 0.963\n"
          ],
          "name": "stdout"
        }
      ]
    },
    {
      "cell_type": "markdown",
      "metadata": {
        "id": "xGb4NGs9-Giy",
        "colab_type": "text"
      },
      "source": [
        "**Question 1**\n",
        "\n",
        "Evaluate the accuracy more thoroughly. Do not modify the parameters of the model (the cell marked with the comment). Use the classifier object."
      ]
    },
    {
      "cell_type": "code",
      "metadata": {
        "id": "NT_g-LWp-IbR",
        "colab_type": "code",
        "colab": {}
      },
      "source": [
        "### Write your code and explanation here."
      ],
      "execution_count": 0,
      "outputs": []
    },
    {
      "cell_type": "markdown",
      "metadata": {
        "id": "m3FjOnB_o_S5",
        "colab_type": "text"
      },
      "source": [
        "Evaluating the accuracy of the model would require to investigate the metric by its definition which states it is the **ratio of number of correct predictions to the total number of input samples. That is by formula (TP+TN)/(TP+TN+FP+FN)**\n"
      ]
    },
    {
      "cell_type": "markdown",
      "metadata": {
        "id": "b2rLi2TNqA7p",
        "colab_type": "text"
      },
      "source": [
        "Where :\n",
        "* TP - True Positives - Observation is positive, and is predicted to be positive.\n",
        "* TN - True Negatives - Observation is negative, and is predicted to be negative.\n",
        "* FP - False Positive - Observation is negative, but is predicted positive.\n",
        "* FN - False Negative - Observation is positive, but is predicted negative."
      ]
    },
    {
      "cell_type": "markdown",
      "metadata": {
        "id": "Uw4lhYdWZ5Pv",
        "colab_type": "text"
      },
      "source": [
        "**Importing the libraries**"
      ]
    },
    {
      "cell_type": "code",
      "metadata": {
        "id": "1ESfNjidQqmA",
        "colab_type": "code",
        "colab": {}
      },
      "source": [
        "pip install matplotlib==3.1.0"
      ],
      "execution_count": 0,
      "outputs": []
    },
    {
      "cell_type": "code",
      "metadata": {
        "id": "tp8EFkdIYtGo",
        "colab_type": "code",
        "colab": {}
      },
      "source": [
        "from sklearn.metrics import accuracy_score, precision_score, recall_score, f1_score, confusion_matrix\n",
        "from sklearn.model_selection import KFold, cross_val_score\n",
        "from sklearn.preprocessing import MinMaxScaler\n",
        "from sklearn.model_selection import train_test_split\n",
        "import sklearn.metrics as metrics\n",
        "from sklearn.utils.multiclass import unique_labels\n",
        "from sklearn.model_selection import learning_curve\n",
        "from sklearn.feature_selection import SelectKBest\n",
        "from sklearn.feature_selection import chi2\n",
        "import matplotlib.pyplot as plt\n",
        "import seaborn as sns\n",
        "import itertools\n",
        "import warnings\n",
        "import pandas as pd\n",
        "from pylab import rcParams\n",
        "warnings.filterwarnings(\"ignore\")"
      ],
      "execution_count": 0,
      "outputs": []
    },
    {
      "cell_type": "markdown",
      "metadata": {
        "id": "ta56who4aBAi",
        "colab_type": "text"
      },
      "source": [
        "**Convertion from bool typle to int type labels**"
      ]
    },
    {
      "cell_type": "code",
      "metadata": {
        "id": "V6lu9MoSZ4E6",
        "colab_type": "code",
        "colab": {}
      },
      "source": [
        "#target = target = target.astype(int)\n",
        "#training_predictions = training_predictions.astype(int)"
      ],
      "execution_count": 0,
      "outputs": []
    },
    {
      "cell_type": "markdown",
      "metadata": {
        "id": "PQv5d_rtEDSL",
        "colab_type": "text"
      },
      "source": [
        "**Class Label:**\n",
        "* **Cover Type = 3 (Ponderosa pine) then Class Label = 1**\n",
        "* **Other Cover Type then Class Label = 0**"
      ]
    },
    {
      "cell_type": "markdown",
      "metadata": {
        "id": "dHV5583ob3tD",
        "colab_type": "text"
      },
      "source": [
        "**Computing the confusion matrix for predictions and target**"
      ]
    },
    {
      "cell_type": "code",
      "metadata": {
        "id": "Yz3my9SY8DuF",
        "colab_type": "code",
        "colab": {}
      },
      "source": [
        "cf =confusion_matrix(target,training_predictions)           # compute confusion matrix to evaluate the accuracy of a classification\n",
        "conf_elements = cf.ravel()                                                # Flattening into 1D array"
      ],
      "execution_count": 0,
      "outputs": []
    },
    {
      "cell_type": "markdown",
      "metadata": {
        "id": "3TEyuqRurUX8",
        "colab_type": "text"
      },
      "source": [
        "**Function for printing the elements of the confusion matrix**\n",
        "> The confusion matrix can be determined for two class that is class - 1 which has cover type 3 and class - 0 which does not have cover type 3. So the function will take an argument \"class_name\" that is either class 0 or class 1 and then find the elements of the matrix accordingly."
      ]
    },
    {
      "cell_type": "code",
      "metadata": {
        "id": "xJSDqAtE7b-x",
        "colab_type": "code",
        "colab": {}
      },
      "source": [
        "def conf_matrix(class_name):\n",
        "    if class_name ==1:                                                                              # Printing the elements of confusion matrix for class - 1 i.e Type 3 cover\n",
        "        print(\"Elements of confusion matrix for Class {}\".format(class_name))\n",
        "        #acc = (conf_elements[3] + conf_elements[0])/(conf_elements[3] + conf_elements[0] + conf_elements[1] + conf_elements[2])\n",
        "        print(\"True Positives = {}\".format(conf_elements[3]))\n",
        "        print(\"False Positives = {}\".format(conf_elements[1]))\n",
        "        print(\"True Negatives = {}\".format(conf_elements[0]))\n",
        "        print(\"False Negatives = {}\".format(conf_elements[2]))\n",
        "        #print(\"Accuracy = {:0.4f} \".format(acc))\n",
        "    else:                                                                                                     # Printing the elements of confusion matrix for class - 0 i.e Not Type 3 cover\n",
        "        print(\"Elements of confusion matrix for Class {}\".format(class_name))\n",
        "        #acc = (conf_elements[0] + conf_elements[3])/(conf_elements[3] + conf_elements[0] + conf_elements[1] + conf_elements[2])\n",
        "        print(\"True Positives = {}\".format(conf_elements[0]))\n",
        "        print(\"False Positives = {}\".format(conf_elements[2]))\n",
        "        print(\"True Negatives = {}\".format(conf_elements[3]))\n",
        "        print(\"False Negatives = {}\".format(conf_elements[1]))\n",
        "        #print(\"Accuracy = {:0.4f} \".format(acc))\n"
      ],
      "execution_count": 0,
      "outputs": []
    },
    {
      "cell_type": "code",
      "metadata": {
        "id": "YZE-MAUGXOtr",
        "colab_type": "code",
        "outputId": "df1c9de2-af46-4b7c-dc76-9f1b42b264c1",
        "colab": {
          "base_uri": "https://localhost:8080/",
          "height": 251
        }
      },
      "source": [
        "print(conf_matrix(1))                                                           # Determining the confusion matrix for class - 1\n",
        "print(conf_matrix(0))                                                           # Determining the confusion matrix for class - 0\n",
        "print(\"Verification of the accuracy by computing it through the formula is  {:0.2f}%\".format( ((conf_elements[0] + conf_elements[3])/\n",
        "                                                                                                                                        (conf_elements[3] + conf_elements[0] + conf_elements[1] + conf_elements[2]))*100))"
      ],
      "execution_count": 11,
      "outputs": [
        {
          "output_type": "stream",
          "text": [
            "Elements of confusion matrix for Class 1\n",
            "True Positives = 2347\n",
            "False Positives = 934\n",
            "True Negatives = 53626\n",
            "False Negatives = 1194\n",
            "None\n",
            "Elements of confusion matrix for Class 0\n",
            "True Positives = 53626\n",
            "False Positives = 1194\n",
            "True Negatives = 2347\n",
            "False Negatives = 934\n",
            "None\n",
            "Verification of the accuracy by computing it through the formula is  96.34%\n"
          ],
          "name": "stdout"
        }
      ]
    },
    {
      "cell_type": "markdown",
      "metadata": {
        "id": "dCOQhdDiYTNC",
        "colab_type": "text"
      },
      "source": [
        "**Plotting of confusion matrix for Class - 1 (Cover type 3)**"
      ]
    },
    {
      "cell_type": "code",
      "metadata": {
        "id": "OPm7kdaEFxrm",
        "colab_type": "code",
        "outputId": "1d121226-00c6-4610-a975-622d68594a98",
        "colab": {
          "base_uri": "https://localhost:8080/",
          "height": 378
        }
      },
      "source": [
        "# Defining the parameters of the heatmap  generation for confusion matrix using seaborn\n",
        "ax= plt.subplot()\n",
        "akws = {\"ha\": 'left',\"va\": 'top'}\n",
        "sns.heatmap(cf, annot=True, ax = ax, cmap=plt.cm.YlGnBu, cbar=True, linewidths=0.05, linecolor=\"black\", fmt=\"d\", annot_kws=akws)\n",
        "sns.set(font_scale=1.0)\n",
        "\n",
        "# A bug in matplotlib that will cut off the graph  on the edges so to handle that this code is helpful\n",
        "bottom, top = ax.get_ylim()\n",
        "ax.set_ylim(bottom + 0.5, top - 0.5)\n",
        "\n",
        "# Setting the label names, graph title, and other properties of annotation text using matplotlib and seaborn libraries\n",
        "ax.set_xlabel('Predicted labels');ax.set_ylabel('True labels'); \n",
        "ax.set_title('Confusion Matrix for Class = 1', fontweight=\"bold\"); \n",
        "ax.xaxis.set_ticklabels(['Not Type 3', 'Type 3']); ax.yaxis.set_ticklabels(['Not Type 3', 'Type 3']);\n",
        "plt.setp(ax.get_xticklabels(), fontsize=15, fontweight=\"bold\", \n",
        "         horizontalalignment=\"center\", verticalalignment = \"top\", rotation = 45);\n",
        "plt.setp(ax.get_yticklabels(), fontsize=15, fontweight=\"bold\", \n",
        "         horizontalalignment=\"center\",verticalalignment = \"center\");\n",
        "plt.tick_params(axis='both', which='major', pad=10); "
      ],
      "execution_count": 14,
      "outputs": [
        {
          "output_type": "display_data",
          "data": {
            "image/png": "[encoded data removed]",
            "text/plain": [
              "<Figure size 432x288 with 2 Axes>"
            ]
          },
          "metadata": {
            "tags": []
          }
        }
      ]
    },
    {
      "cell_type": "markdown",
      "metadata": {
        "id": "AOArmu-qu7t0",
        "colab_type": "text"
      },
      "source": [
        "**Evaluating the accuracy for unseen data using train-test-split strategy.**"
      ]
    },
    {
      "cell_type": "markdown",
      "metadata": {
        "id": "bqGS8v1-vUmZ",
        "colab_type": "text"
      },
      "source": [
        "In the task assigned the model was fitted and predicted with same data and hence the accuracy cannot be justified. So to verify the classification power of the model it has to predict on an unseen dataset based on the function learnt from the training. Therefore I have splitted the whole data set into 65% as training data and 35% as test data."
      ]
    },
    {
      "cell_type": "markdown",
      "metadata": {
        "id": "Z50N0dz1w3cG",
        "colab_type": "text"
      },
      "source": [
        "**Scaling of all 54 features**\n",
        "> As seen from the visualization of the features box plot we can understand how much are featured spread starting from 0 to 1000's hence we have to scale them between 0 to 1 so that they do not influence the model."
      ]
    },
    {
      "cell_type": "code",
      "metadata": {
        "id": "8nQRWPnT5Y-y",
        "colab_type": "code",
        "colab": {}
      },
      "source": [
        "scaler = MinMaxScaler(feature_range = (0,1))\n",
        "features_scaled = scaler.fit_transform(features)"
      ],
      "execution_count": 0,
      "outputs": []
    },
    {
      "cell_type": "markdown",
      "metadata": {
        "id": "SKN3TmPHxGcf",
        "colab_type": "text"
      },
      "source": [
        "**Train and Test split, model fitting, model prediction, cross validated accuracy on training set and model evaluation on testing set**"
      ]
    },
    {
      "cell_type": "markdown",
      "metadata": {
        "id": "mBgG86Luxfm6",
        "colab_type": "text"
      },
      "source": [
        "The function \"cross_val_score\" uses Stratified KFold cross validation and it is necessary for binary classification problem. The value of K is chosen to be 20 in order to eliminate bias costing more computing time and power."
      ]
    },
    {
      "cell_type": "markdown",
      "metadata": {
        "id": "MPWtWEPYyOz-",
        "colab_type": "text"
      },
      "source": [
        "The variance of cross validated accuracy is pretty low as it varies on the 4th decimal point only."
      ]
    },
    {
      "cell_type": "markdown",
      "metadata": {
        "id": "ovTmWSZgylVy",
        "colab_type": "text"
      },
      "source": [
        "But the model is overfitting as the accuracy on the test data is quite close to the training accuracy. Hence to avoid this, feture engineering needs to be done."
      ]
    },
    {
      "cell_type": "code",
      "metadata": {
        "id": "rVu5WD5N5X-P",
        "colab_type": "code",
        "outputId": "9cd3c907-595d-4709-c765-da3fbd8d3760",
        "colab": {
          "base_uri": "https://localhost:8080/",
          "height": 107
        }
      },
      "source": [
        "#Train and test split\n",
        "Train_features, Test_features, Train_labels, Test_labels = train_test_split(features_scaled, target, test_size = 0.35, random_state = 42)\n",
        "#Fitting the model\n",
        "clf  = classifier.fit(Train_features,  Train_labels)\n",
        "#Training evaluation\n",
        "accuracy_cv  = cross_val_score(clf, Train_features, Train_labels, cv = 20, scoring = 'accuracy')\n",
        "\n",
        "print(\"The mean accuracy score of the classifier on our training set is {:0.2f}%\".format(np.round(accuracy_cv.mean()*100, 2)))\n",
        "print('The range of accuracy score for training set : {:.4f} (+/- {:.4f})'.format(accuracy_cv.mean(), accuracy_cv.std() * 2))\n",
        "print(\"\\n\")\n",
        "#Model prediction\n",
        "predicted_labels = clf.predict(Test_features)\n",
        "#Model Evaluation\n",
        "accuracy_test = accuracy_score(Test_labels, predicted_labels)\n",
        "print(\"The accuracy score on the testing set is\",np.round(accuracy_test*100, 2))\n",
        "\n"
      ],
      "execution_count": 16,
      "outputs": [
        {
          "output_type": "stream",
          "text": [
            "The mean accuracy score of the classifier on our training set is 96.45%\n",
            "The range of accuracy score for training set : 0.9645 (+/- 0.0066)\n",
            "\n",
            "\n",
            "The accuracy score on the testing set is 96.32\n"
          ],
          "name": "stdout"
        }
      ]
    },
    {
      "cell_type": "markdown",
      "metadata": {
        "id": "adxM-Wcl-Mm-",
        "colab_type": "text"
      },
      "source": [
        "**Question 2**\n",
        "\n",
        "Is accuracy the most suitable metric for this problem?"
      ]
    },
    {
      "cell_type": "code",
      "metadata": {
        "id": "_HTXyqgD-QQv",
        "colab_type": "code",
        "colab": {}
      },
      "source": [
        "### Write your code and explanation here."
      ],
      "execution_count": 0,
      "outputs": []
    },
    {
      "cell_type": "markdown",
      "metadata": {
        "id": "lOflRZbQJrkP",
        "colab_type": "text"
      },
      "source": [
        "**Answer - Accuracy is NOT the most suitable metric for classification problem.**\n",
        "\n",
        "\n",
        "---\n",
        "\n",
        "*   The reason for  the statement is that the metric accuracy does not consider the class for it's calculation. The accuracy remains the same for every class as noticed in the above code snippet. The accuracy for determining if **the cover is of type 3 is 93.6%** and it is the same if we try to determine **the cover is not of type 3.**\n",
        "\n",
        "*   Suppose we use a classifier which has zero predictive power (i.e TP=0, FP=0) then accuracy of the classifier as per definition will tend to increase beyond 100% which is technically incorrect.\n",
        "\n",
        "*   The covertype dataset considering only cover type 3 (Ponderosa pine) is quite unbalanced because it has 94% of instances in one class and only 6% in the other and by choosing accuracy as metric we are assigning equal weightage to FP and FN.\n",
        "This might result in high accuracy for a model but might yield poor precision and recall values which is not satisfactory.\n",
        "\n",
        "\n",
        "\n",
        "\n",
        "\n",
        "\n",
        "\n"
      ]
    },
    {
      "cell_type": "markdown",
      "metadata": {
        "id": "J_HF7TyO2YeI",
        "colab_type": "text"
      },
      "source": [
        "To evaluate the performance of a classifier there are other metrics in addition to accuracy:\n",
        "* Precision - It indicates an example labeled as positive is indeed positive.  TP/(TP+FP)\n",
        "* Recall - It indicates the class is correctly recognized . TP/(TP+FN)\n",
        "* F- Measure - The F-Measure will always be nearer to the smaller value of Precision or Recall because it takes into account he harmonic mean and not the arithmetic mean.\n",
        "* Area under the curve (AUC) - AUC score tell us about the distinguishing power of the classifier between positive and negative class."
      ]
    },
    {
      "cell_type": "markdown",
      "metadata": {
        "id": "TZR9445pQ9FP",
        "colab_type": "text"
      },
      "source": [
        "**Macro and Micro averaging precision, recall and F1 score**"
      ]
    },
    {
      "cell_type": "code",
      "metadata": {
        "id": "KneiJxIwJirk",
        "colab_type": "code",
        "colab": {}
      },
      "source": [
        "def metrics_score(avg_tech):\n",
        "    print(\"The {} averaging values are as follows:\".format(avg_tech))\n",
        "    print(\"The precison score = {:0.4f}\".format(precision_score(target, training_predictions, average=avg_tech)))\n",
        "    print(\"The recall score  = {:0.4f}\".format(recall_score(target, training_predictions, average=avg_tech)))\n",
        "    print(\"The F1 score  = {:0.4f}\".format(f1_score(target, training_predictions, average=avg_tech)))"
      ],
      "execution_count": 0,
      "outputs": []
    },
    {
      "cell_type": "code",
      "metadata": {
        "id": "3kz9ShagJin2",
        "colab_type": "code",
        "outputId": "2cdd4ac9-7af9-4770-c6c4-03e95c90d4d7",
        "colab": {
          "base_uri": "https://localhost:8080/",
          "height": 215
        }
      },
      "source": [
        "print(metrics_score('macro'))\n",
        "print(metrics_score('micro'))\n",
        "print(\"Hence from the results we can see that the classifier having an accuracy of 94% falls to have a precision and recall score of 82-84%\")"
      ],
      "execution_count": 38,
      "outputs": [
        {
          "output_type": "stream",
          "text": [
            "The macro averaging values are as follows:\n",
            "The precison score = 0.8468\n",
            "The recall score  = 0.8228\n",
            "The F1 score  = 0.8343\n",
            "None\n",
            "The micro averaging values are as follows:\n",
            "The precison score = 0.9634\n",
            "The recall score  = 0.9634\n",
            "The F1 score  = 0.9634\n",
            "None\n",
            "Hence from the results we can see that the classifier having an accuracy of 94% falls to have a precision and recall score of 82-84%\n"
          ],
          "name": "stdout"
        }
      ]
    },
    {
      "cell_type": "markdown",
      "metadata": {
        "id": "PFzGRx5mS-cp",
        "colab_type": "text"
      },
      "source": [
        "**Area under the ROC**"
      ]
    },
    {
      "cell_type": "code",
      "metadata": {
        "id": "p6GZ5WGyZfQL",
        "colab_type": "code",
        "outputId": "9e38bd8e-8711-45bb-8630-15b4df26bc22",
        "colab": {
          "base_uri": "https://localhost:8080/",
          "height": 319
        }
      },
      "source": [
        "# Predicting the probability of class assignment for each chosen sample from the Train_features \n",
        "probs = classifier.predict_proba(Train_features)\n",
        "# Choosing the class for which the AUC has to be determined.\n",
        "preds = probs[:,1]\n",
        "# Calculating false positive rate, true postive rate and the possible thresholds that can clearly separate TP and TN.\n",
        "fpr, tpr, threshold = metrics.roc_curve(Train_labels, preds)\n",
        "roc_auc = metrics.auc(fpr, tpr)\n",
        "\n",
        "# Finding the best threshold value for distingushing the positive and negative class\n",
        "sum_sensitivity_specificity = tpr + (1-fpr)\n",
        "best_threshold_id = np.argmax(sum_sensitivity_specificity)\n",
        "best_threshold = threshold[best_threshold_id]\n",
        "print(\"Best threshold value {:0.3f}\".format(best_threshold))\n",
        "\n",
        "# Plotting of the ROC and determining the AUC score\n",
        "plt.title('Receiver Operating Characteristic')\n",
        "plt.plot(fpr, tpr, 'b', label = 'AUC = %0.2f' % roc_auc)\n",
        "plt.legend(loc = 'lower right')\n",
        "plt.plot([0, 1], [0, 1],'r--')\n",
        "plt.xlim([0, 1])\n",
        "plt.ylim([0, 1])\n",
        "plt.ylabel('True Positive Rate')\n",
        "plt.xlabel('False Positive Rate')\n",
        "plt.show()\n"
      ],
      "execution_count": 43,
      "outputs": [
        {
          "output_type": "stream",
          "text": [
            "Best threshold value 0.094\n"
          ],
          "name": "stdout"
        },
        {
          "output_type": "display_data",
          "data": {
            "image/png": "[encoded data removed]",
            "text/plain": [
              "<Figure size 432x288 with 1 Axes>"
            ]
          },
          "metadata": {
            "tags": []
          }
        }
      ]
    },
    {
      "cell_type": "markdown",
      "metadata": {
        "id": "dQIy5aCe9HXN",
        "colab_type": "text"
      },
      "source": [
        "The dashed line in the diagonal we present the ROC curve of a random predictor  it has an AUROC of 0.5. The random predictor is commonly used as a baseline to see whether the model is useful. Hence for our model the AUROC is 0.98 which is really a good value to proceed for prediction."
      ]
    },
    {
      "cell_type": "markdown",
      "metadata": {
        "id": "d5mfuCfx-UKx",
        "colab_type": "text"
      },
      "source": [
        "**Question 3**\n",
        "\n",
        "Should you get more training data?"
      ]
    },
    {
      "cell_type": "code",
      "metadata": {
        "id": "rl6M5-5H-VJ2",
        "colab_type": "code",
        "colab": {}
      },
      "source": [
        "### Write your code and explanation here."
      ],
      "execution_count": 0,
      "outputs": []
    },
    {
      "cell_type": "markdown",
      "metadata": {
        "id": "78cSLBejpIJM",
        "colab_type": "text"
      },
      "source": [
        "**Function for plotting the learning curve**"
      ]
    },
    {
      "cell_type": "code",
      "metadata": {
        "id": "QaUYlYf7ae9w",
        "colab_type": "code",
        "colab": {}
      },
      "source": [
        "def plot_learning_curve(model,title, X, y,n_jobs = 1, ylim = None, cv = None,train_sizes = np.linspace(0.1, 1, 10)):\n",
        "    \n",
        "    # Figrue parameters\n",
        "    plt.figure(figsize=(10,8))\n",
        "    plt.title(title)\n",
        "    if ylim is not None:\n",
        "        plt.ylim(*ylim)\n",
        "    plt.xlabel('Training Examples')\n",
        "    plt.ylabel('Score')\n",
        "    \n",
        "    train_sizes, train_score, test_score = learning_curve(model, X, y, cv = cv, n_jobs=n_jobs, train_sizes=train_sizes)\n",
        "    \n",
        "    # Calculate mean and std\n",
        "    train_score_mean = np.mean(train_score, axis=1)\n",
        "    train_score_std = np.std(train_score, axis=1)\n",
        "    test_score_mean = np.mean(test_score, axis=1)\n",
        "    test_score_std = np.std(test_score, axis=1)\n",
        "    \n",
        "    plt.grid()\n",
        "    plt.fill_between(train_sizes, train_score_mean - train_score_std, train_score_mean + train_score_std,\n",
        "                    alpha = 0.1, color = 'r')\n",
        "    plt.fill_between(train_sizes, test_score_mean - test_score_std, test_score_mean + test_score_std,\n",
        "                    alpha = 0.1, color = 'b')\n",
        "    \n",
        "    plt.plot(train_sizes, train_score_mean, 'o-', color=\"r\", label=\"Training score\")\n",
        "    plt.plot(train_sizes, test_score_mean, 'o-', color=\"b\", label=\"Cross-validation score\")\n",
        "    \n",
        "    plt.legend(loc = \"best\")\n",
        "    return plt"
      ],
      "execution_count": 0,
      "outputs": []
    },
    {
      "cell_type": "code",
      "metadata": {
        "id": "uaK2k8o-yFSq",
        "colab_type": "code",
        "outputId": "90a019a4-3eed-4423-abdd-227b6587cfaa",
        "colab": {
          "base_uri": "https://localhost:8080/",
          "height": 518
        }
      },
      "source": [
        "title = 'Learning Curve (LogisticRegressionClassifier)'\n",
        "plot_learning_curve(classifier,title,Train_features, Train_labels, n_jobs=-1,ylim=None,cv=10)\n",
        "plt.show()"
      ],
      "execution_count": 20,
      "outputs": [
        {
          "output_type": "display_data",
          "data": {
            "image/png": "[encoded data removed]",
            "text/plain": [
              "<Figure size 720x576 with 1 Axes>"
            ]
          },
          "metadata": {
            "tags": []
          }
        }
      ]
    },
    {
      "cell_type": "markdown",
      "metadata": {
        "id": "LY11CkETBZ22",
        "colab_type": "text"
      },
      "source": [
        "**Observations**"
      ]
    },
    {
      "cell_type": "markdown",
      "metadata": {
        "id": "sExPPXIkBtXj",
        "colab_type": "text"
      },
      "source": [
        "\n",
        "\n",
        "1.   The end point of the two curves is converging at the end of the training samples.\n",
        "2.   The Training score is dripping from 0.968 to 0.965 which is negligible and can be considered as a plateau surface.\n",
        "3. The cross validated score is increasing from 0.961 to 0.964.\n",
        "4. The variance of the training score is less compared to the variance of the cross validated score.\n",
        "5. The gap between the training score line and cross validated score line is narrowed down as the training samples are increased.\n",
        "\n"
      ]
    },
    {
      "cell_type": "markdown",
      "metadata": {
        "id": "PMgQ2uaGDPg6",
        "colab_type": "text"
      },
      "source": [
        "**Inferences**"
      ]
    },
    {
      "cell_type": "markdown",
      "metadata": {
        "id": "35zDAhU_DUXU",
        "colab_type": "text"
      },
      "source": [
        "* From the Pt.1 we can infer that the score lines will reach asymptotic convergence in the next iteration and hence we can early stop our model with this amount of training examples.\n",
        "* From Pt.2 and 3 we can say that the model is learning because the cross validated score is has improved from the start of training examples till the end.\n",
        "* From Pt.4 this model suffers primarily from error due to variance (the CV scores for the test data are more variable than for training data) so it is possible that the model is overfitting."
      ]
    },
    {
      "cell_type": "markdown",
      "metadata": {
        "id": "qMe6p_mEIh0o",
        "colab_type": "text"
      },
      "source": [
        "**Solution**"
      ]
    },
    {
      "cell_type": "markdown",
      "metadata": {
        "id": "a85-CkUoIlqc",
        "colab_type": "text"
      },
      "source": [
        "Increasing the training samples will incorporate more variance hence it is better to early stop our training on 22000 samples and focus on engineering the features. We must find out independent featues that contribute to the prediction of class of cover type 3 and drop out less significant features due which is actually causing high varince in the testing data."
      ]
    },
    {
      "cell_type": "markdown",
      "metadata": {
        "id": "JuuuRgp_-Znz",
        "colab_type": "text"
      },
      "source": [
        "**Question 4**\n",
        "\n",
        "How would you decide which features to include in the deployed model?"
      ]
    },
    {
      "cell_type": "code",
      "metadata": {
        "id": "mEeujeNN-cWG",
        "colab_type": "code",
        "colab": {}
      },
      "source": [
        "### Write your code and explanation here."
      ],
      "execution_count": 0,
      "outputs": []
    },
    {
      "cell_type": "markdown",
      "metadata": {
        "id": "_04F_G3cJ9DB",
        "colab_type": "text"
      },
      "source": [
        "**Assigning the target variable of forest cover type and converting it into int type from bool**"
      ]
    },
    {
      "cell_type": "code",
      "metadata": {
        "id": "Saf3YtSl-ddO",
        "colab_type": "code",
        "colab": {}
      },
      "source": [
        "target_covertype = dataset.target[random_sample] == 3\n",
        "target_covertype = target_covertype.astype(int)\n",
        "\n",
        "# Extracting the class -1 and dropping class - 0. This dataframe is not used anywhere though. Neglect.\n",
        "target_covertype_true = []\n",
        "for i in range(len(target_covertype)):\n",
        "    if target_covertype[i]==1:\n",
        "        target_covertype_true.append(target_covertype[i])\n",
        "\n",
        "d_target_covertype_true = {'Target':target_covertype_true}\n",
        "df_target_covertype_true = pd.DataFrame(d_target_covertype_true)"
      ],
      "execution_count": 0,
      "outputs": []
    },
    {
      "cell_type": "markdown",
      "metadata": {
        "id": "iMQcmvQcWFOY",
        "colab_type": "text"
      },
      "source": [
        "**Extracting the features**"
      ]
    },
    {
      "cell_type": "markdown",
      "metadata": {
        "id": "I5q8y0onWJpA",
        "colab_type": "text"
      },
      "source": [
        "The CoverType dataset has 54 features that are distributed non uniformly across all the 7 Forest cover types. But the model uses only cover type 3 as the target variable. Hence we have to extract and weigh the salient features which are most relavant to type 3 alone. "
      ]
    },
    {
      "cell_type": "code",
      "metadata": {
        "id": "0l4L2lLGs8ub",
        "colab_type": "code",
        "colab": {}
      },
      "source": [
        "specific_features = []\n",
        "for i in range(len(target_covertype)):\n",
        "    if target_covertype[i] == 1: \n",
        "       specific_features.append(features[i])"
      ],
      "execution_count": 0,
      "outputs": []
    },
    {
      "cell_type": "markdown",
      "metadata": {
        "id": "dJMdibnxZk4p",
        "colab_type": "text"
      },
      "source": [
        "**Segregating the features into separate lists for further feature visualoization**"
      ]
    },
    {
      "cell_type": "markdown",
      "metadata": {
        "id": "tr0Iur0kZ2Jx",
        "colab_type": "text"
      },
      "source": [
        "The list name indicates and describes the feature by itself."
      ]
    },
    {
      "cell_type": "markdown",
      "metadata": {
        "id": "Ax196oUvalKW",
        "colab_type": "text"
      },
      "source": [
        "Two tpyes of feature are encountered in the dataset:\n",
        "\n",
        "*   Numerical feature - Elevation, Aspect, Horizontal_Distance_To_Hydrology, Vertical_Distance_To_Hydrology, Horizontal_Distance_To_Roadways, Hillshade_9am, Hillshade_Noon, Hillshade_3pm, Horizontal_Distance_To_Fire_Points.\n",
        "*   Binary feature - Wilderness area 1, 2, 3, 4 and Soil types 1 to 40.\n",
        "\n",
        "Both of these features cannot be correlated hence we have to perform feature engineering separately.\n",
        "\n"
      ]
    },
    {
      "cell_type": "code",
      "metadata": {
        "id": "EWodLKto7TAs",
        "colab_type": "code",
        "colab": {}
      },
      "source": [
        "elevation_feature=[]\n",
        "aspect_feature = []\n",
        "slope_feature = []\n",
        "Horizontal_Distance_To_Hydrology_feature = []\n",
        "Vertical_Distance_To_Hydrology_feature = []\n",
        "Horizontal_Distance_To_Roadways_feature = []\n",
        "Hillshade_9am_feature = []                          \n",
        "Hillshade_Noon_feature = []                        \n",
        "Hillshade_3pm_feature = []                        \n",
        "Horizontal_Distance_To_Fire_Points_feature = []\n",
        "Wild_Area1 = []\n",
        "Wild_Area2 = []\n",
        "Wild_Area3 = []\n",
        "Wild_Area4 = []\n",
        "Soil_type = []\n",
        "\n",
        "for i in range(len(specific_features)): \n",
        "    elevation_feature.append(specific_features[i][0]) \n",
        "    aspect_feature.append(specific_features[i][1])\n",
        "    slope_feature.append(specific_features[i][2])\n",
        "    Horizontal_Distance_To_Hydrology_feature.append(specific_features[i][3])\n",
        "    Vertical_Distance_To_Hydrology_feature.append(specific_features[i][4])\n",
        "    Horizontal_Distance_To_Roadways_feature.append(specific_features[i][5])\n",
        "    Hillshade_9am_feature.append(specific_features[i][6])\n",
        "    Hillshade_Noon_feature.append(specific_features[i][7])\n",
        "    Hillshade_3pm_feature.append(specific_features[i][8])\n",
        "    Horizontal_Distance_To_Fire_Points_feature.append(specific_features[i][9])\n",
        "    Wild_Area1.append(specific_features[i][10])\n",
        "    Wild_Area2.append(specific_features[i][11])\n",
        "    Wild_Area3.append(specific_features[i][12])\n",
        "    Wild_Area4.append(specific_features[i][13])\n",
        "    Soil_type.append(specific_features[i][14:])\n"
      ],
      "execution_count": 0,
      "outputs": []
    },
    {
      "cell_type": "markdown",
      "metadata": {
        "id": "FrlDIyBkaEAd",
        "colab_type": "text"
      },
      "source": [
        "**Converting the feature lists into dataframe for collective visualization of BoxPlot**"
      ]
    },
    {
      "cell_type": "code",
      "metadata": {
        "id": "cPonEB4_3UMT",
        "colab_type": "code",
        "colab": {}
      },
      "source": [
        " d_numeric = {'Elevation':elevation_feature,'Aspect':aspect_feature, 'Slope':slope_feature,'Hor Dist Hydro':Horizontal_Distance_To_Hydrology_feature,'Ver Dist Hydro':Vertical_Distance_To_Hydrology_feature,\n",
        "      'Hor Dist Road':Horizontal_Distance_To_Roadways_feature,'Shade 9am':Hillshade_9am_feature,'Shade Noon':Hillshade_Noon_feature,'Shade 3pm':Hillshade_3pm_feature,\n",
        "      'Hor Dist Fire Point':Horizontal_Distance_To_Fire_Points_feature}"
      ],
      "execution_count": 0,
      "outputs": []
    },
    {
      "cell_type": "code",
      "metadata": {
        "id": "ePBnOX715XuS",
        "colab_type": "code",
        "colab": {}
      },
      "source": [
        "df_numeric = pd.DataFrame(d_numeric)"
      ],
      "execution_count": 0,
      "outputs": []
    },
    {
      "cell_type": "markdown",
      "metadata": {
        "id": "5h6C8z56ac1n",
        "colab_type": "text"
      },
      "source": [
        "**BoxPlot of numerical features for viewing feature spread**"
      ]
    },
    {
      "cell_type": "code",
      "metadata": {
        "id": "-cf47lCX5ilB",
        "colab_type": "code",
        "outputId": "cd503635-6acc-4b6f-c87b-9c56da273ae1",
        "colab": {
          "base_uri": "https://localhost:8080/",
          "height": 482
        }
      },
      "source": [
        "#plt = matplotlib.pyplot\n",
        "\n",
        "# plot bg\n",
        "sns.set_style(\"whitegrid\")\n",
        "\n",
        "#Size of the plot\n",
        "plt.subplots(figsize=(15, 7))\n",
        "\n",
        "# setting color of the plot\n",
        "color = sns.color_palette('pastel')\n",
        "\n",
        "# Using seaborn to plot it horizontally with 'color'\n",
        "sns.boxplot(data = df_numeric, orient='h', palette=color)\n",
        "\n",
        "# Title of the graph\n",
        "plt.title('Variation of feature values for forest cover of Type 3', size = 20)\n",
        "\n",
        "# Horizontal axis Label\n",
        "plt.xlabel('Range of values', size = 17)\n",
        "# Vertical axis Label\n",
        "plt.ylabel('Features', size = 17)\n",
        "\n",
        "# x-axis label size\n",
        "plt.xticks(size = 17)\n",
        "#y-axis label size\n",
        "plt.yticks(size = 15)\n",
        "\n",
        "# removing the top and right axes spines, which are not needed\n",
        "sns.despine()\n",
        "plt.show()"
      ],
      "execution_count": 26,
      "outputs": [
        {
          "output_type": "display_data",
          "data": {
            "image/png": "[encoded data removed]",
            "text/plain": [
              "<Figure size 1080x504 with 1 Axes>"
            ]
          },
          "metadata": {
            "tags": []
          }
        }
      ]
    },
    {
      "cell_type": "markdown",
      "metadata": {
        "id": "0SEu8sI2zQV0",
        "colab_type": "text"
      },
      "source": [
        "Every numerical feature is important and contributes to the prediction model as it is evident from the feature visualization that all the features have a wide amount of spread on the axis. Features like slope, shade noon, shade 9am and shade 3pm have a very short spread and hence have a low variance. From this we can infer that these features single handedly cannot contribute much for the classification problem but in combination with other features they can work well to discriminate between the target classes."
      ]
    },
    {
      "cell_type": "markdown",
      "metadata": {
        "id": "JNzfdJ0R2XMT",
        "colab_type": "text"
      },
      "source": [
        "The features like Horizontal distance to Fire Point, Horizontal distance to road, Horizontal and Vertical distance to hydrology have outliers within them. The presence of outliers can result in two effects i.e Masking and Swamping effect. Hence each feature has to be engineered separately and then deployed into the model for classification. There are many proven techniques for handling outliers such as:\n",
        "Deleting the observation  - But it is not advisable in our case as they represent some useful information, Binning, Imputing, Treating outliers separately with a statistical model are other strategies which can be adopted. "
      ]
    },
    {
      "cell_type": "code",
      "metadata": {
        "id": "BlxhbveWbqeR",
        "colab_type": "code",
        "colab": {}
      },
      "source": [
        ""
      ],
      "execution_count": 0,
      "outputs": []
    },
    {
      "cell_type": "markdown",
      "metadata": {
        "id": "S2AXOq11bsg6",
        "colab_type": "text"
      },
      "source": [
        "**Correlation among the numerical features**"
      ]
    },
    {
      "cell_type": "code",
      "metadata": {
        "id": "cr6Pn5FlOrxj",
        "colab_type": "code",
        "outputId": "714a7aa3-01a2-434a-fc1a-252c2b6fe3f0",
        "colab": {
          "base_uri": "https://localhost:8080/",
          "height": 1000
        }
      },
      "source": [
        "plt.subplots(figsize=(10, 10))\n",
        "\n",
        "# Compute the correlation matrix\n",
        "df_numeric_corr = df_numeric.corr()\n",
        "\n",
        "# Generate a mask for the upper triangle\n",
        "mask = np.zeros_like(df_numeric_corr, dtype=np.bool)\n",
        "mask[np.triu_indices_from(mask)] = True\n",
        "\n",
        "# Generates heatmap masking the upper triangle and shrinking the cbar\n",
        "ax = sns.heatmap(df_numeric_corr, mask=mask, center=0, square=True, annot=True, annot_kws={\"size\": 12}, cbar_kws={\"shrink\": .7})\n",
        "\n",
        "bottom, top = ax.get_ylim()\n",
        "ax.set_ylim(bottom + 0.5, top - 0.5)\n",
        "\n",
        "\n",
        "# x-axis label size\n",
        "plt.xticks(size = 15)\n",
        "# y-axis label size\n",
        "plt.yticks(size = 15)\n",
        "\n",
        "# display plot\n",
        "plt.show()\n",
        "print(\"\\n\")\n",
        "df_numeric_corr"
      ],
      "execution_count": 27,
      "outputs": [
        {
          "output_type": "display_data",
          "data": {
            "image/png": "[encoded data removed]",
            "text/plain": [
              "<Figure size 720x720 with 2 Axes>"
            ]
          },
          "metadata": {
            "tags": []
          }
        },
        {
          "output_type": "stream",
          "text": [
            "\n",
            "\n"
          ],
          "name": "stdout"
        },
        {
          "output_type": "execute_result",
          "data": {
            "text/html": [
              "<div>\n",
              "<style scoped>\n",
              "    .dataframe tbody tr th:only-of-type {\n",
              "        vertical-align: middle;\n",
              "    }\n",
              "\n",
              "    .dataframe tbody tr th {\n",
              "        vertical-align: top;\n",
              "    }\n",
              "\n",
              "    .dataframe thead th {\n",
              "        text-align: right;\n",
              "    }\n",
              "</style>\n",
              "<table border=\"1\" class=\"dataframe\">\n",
              "  <thead>\n",
              "    <tr style=\"text-align: right;\">\n",
              "      <th></th>\n",
              "      <th>Elevation</th>\n",
              "      <th>Aspect</th>\n",
              "      <th>Slope</th>\n",
              "      <th>Hor Dist Hydro</th>\n",
              "      <th>Ver Dist Hydro</th>\n",
              "      <th>Hor Dist Road</th>\n",
              "      <th>Shade 9am</th>\n",
              "      <th>Shade Noon</th>\n",
              "      <th>Shade 3pm</th>\n",
              "      <th>Hor Dist Fire Point</th>\n",
              "    </tr>\n",
              "  </thead>\n",
              "  <tbody>\n",
              "    <tr>\n",
              "      <th>Elevation</th>\n",
              "      <td>1.000000</td>\n",
              "      <td>-0.129409</td>\n",
              "      <td>-0.414700</td>\n",
              "      <td>0.270129</td>\n",
              "      <td>-0.029135</td>\n",
              "      <td>0.612044</td>\n",
              "      <td>0.359968</td>\n",
              "      <td>0.460831</td>\n",
              "      <td>-0.016526</td>\n",
              "      <td>0.529622</td>\n",
              "    </tr>\n",
              "    <tr>\n",
              "      <th>Aspect</th>\n",
              "      <td>-0.129409</td>\n",
              "      <td>1.000000</td>\n",
              "      <td>0.118810</td>\n",
              "      <td>-0.007557</td>\n",
              "      <td>0.113279</td>\n",
              "      <td>-0.070565</td>\n",
              "      <td>-0.646697</td>\n",
              "      <td>0.228637</td>\n",
              "      <td>0.711328</td>\n",
              "      <td>-0.062092</td>\n",
              "    </tr>\n",
              "    <tr>\n",
              "      <th>Slope</th>\n",
              "      <td>-0.414700</td>\n",
              "      <td>0.118810</td>\n",
              "      <td>1.000000</td>\n",
              "      <td>-0.158270</td>\n",
              "      <td>0.135935</td>\n",
              "      <td>-0.112896</td>\n",
              "      <td>-0.454196</td>\n",
              "      <td>-0.574876</td>\n",
              "      <td>-0.078108</td>\n",
              "      <td>-0.204759</td>\n",
              "    </tr>\n",
              "    <tr>\n",
              "      <th>Hor Dist Hydro</th>\n",
              "      <td>0.270129</td>\n",
              "      <td>-0.007557</td>\n",
              "      <td>-0.158270</td>\n",
              "      <td>1.000000</td>\n",
              "      <td>0.582756</td>\n",
              "      <td>0.069350</td>\n",
              "      <td>0.057582</td>\n",
              "      <td>0.052091</td>\n",
              "      <td>0.004252</td>\n",
              "      <td>0.110912</td>\n",
              "    </tr>\n",
              "    <tr>\n",
              "      <th>Ver Dist Hydro</th>\n",
              "      <td>-0.029135</td>\n",
              "      <td>0.113279</td>\n",
              "      <td>0.135935</td>\n",
              "      <td>0.582756</td>\n",
              "      <td>1.000000</td>\n",
              "      <td>0.032177</td>\n",
              "      <td>-0.182511</td>\n",
              "      <td>-0.144276</td>\n",
              "      <td>0.069184</td>\n",
              "      <td>-0.092445</td>\n",
              "    </tr>\n",
              "    <tr>\n",
              "      <th>Hor Dist Road</th>\n",
              "      <td>0.612044</td>\n",
              "      <td>-0.070565</td>\n",
              "      <td>-0.112896</td>\n",
              "      <td>0.069350</td>\n",
              "      <td>0.032177</td>\n",
              "      <td>1.000000</td>\n",
              "      <td>0.159978</td>\n",
              "      <td>0.243789</td>\n",
              "      <td>-0.004695</td>\n",
              "      <td>0.399479</td>\n",
              "    </tr>\n",
              "    <tr>\n",
              "      <th>Shade 9am</th>\n",
              "      <td>0.359968</td>\n",
              "      <td>-0.646697</td>\n",
              "      <td>-0.454196</td>\n",
              "      <td>0.057582</td>\n",
              "      <td>-0.182511</td>\n",
              "      <td>0.159978</td>\n",
              "      <td>1.000000</td>\n",
              "      <td>0.164542</td>\n",
              "      <td>-0.763341</td>\n",
              "      <td>0.192419</td>\n",
              "    </tr>\n",
              "    <tr>\n",
              "      <th>Shade Noon</th>\n",
              "      <td>0.460831</td>\n",
              "      <td>0.228637</td>\n",
              "      <td>-0.574876</td>\n",
              "      <td>0.052091</td>\n",
              "      <td>-0.144276</td>\n",
              "      <td>0.243789</td>\n",
              "      <td>0.164542</td>\n",
              "      <td>1.000000</td>\n",
              "      <td>0.491672</td>\n",
              "      <td>0.232848</td>\n",
              "    </tr>\n",
              "    <tr>\n",
              "      <th>Shade 3pm</th>\n",
              "      <td>-0.016526</td>\n",
              "      <td>0.711328</td>\n",
              "      <td>-0.078108</td>\n",
              "      <td>0.004252</td>\n",
              "      <td>0.069184</td>\n",
              "      <td>-0.004695</td>\n",
              "      <td>-0.763341</td>\n",
              "      <td>0.491672</td>\n",
              "      <td>1.000000</td>\n",
              "      <td>-0.016908</td>\n",
              "    </tr>\n",
              "    <tr>\n",
              "      <th>Hor Dist Fire Point</th>\n",
              "      <td>0.529622</td>\n",
              "      <td>-0.062092</td>\n",
              "      <td>-0.204759</td>\n",
              "      <td>0.110912</td>\n",
              "      <td>-0.092445</td>\n",
              "      <td>0.399479</td>\n",
              "      <td>0.192419</td>\n",
              "      <td>0.232848</td>\n",
              "      <td>-0.016908</td>\n",
              "      <td>1.000000</td>\n",
              "    </tr>\n",
              "  </tbody>\n",
              "</table>\n",
              "</div>"
            ],
            "text/plain": [
              "                     Elevation    Aspect  ...  Shade 3pm  Hor Dist Fire Point\n",
              "Elevation             1.000000 -0.129409  ...  -0.016526             0.529622\n",
              "Aspect               -0.129409  1.000000  ...   0.711328            -0.062092\n",
              "Slope                -0.414700  0.118810  ...  -0.078108            -0.204759\n",
              "Hor Dist Hydro        0.270129 -0.007557  ...   0.004252             0.110912\n",
              "Ver Dist Hydro       -0.029135  0.113279  ...   0.069184            -0.092445\n",
              "Hor Dist Road         0.612044 -0.070565  ...  -0.004695             0.399479\n",
              "Shade 9am             0.359968 -0.646697  ...  -0.763341             0.192419\n",
              "Shade Noon            0.460831  0.228637  ...   0.491672             0.232848\n",
              "Shade 3pm            -0.016526  0.711328  ...   1.000000            -0.016908\n",
              "Hor Dist Fire Point   0.529622 -0.062092  ...  -0.016908             1.000000\n",
              "\n",
              "[10 rows x 10 columns]"
            ]
          },
          "metadata": {
            "tags": []
          },
          "execution_count": 27
        }
      ]
    },
    {
      "cell_type": "markdown",
      "metadata": {
        "id": "8tad1rN1b3_I",
        "colab_type": "text"
      },
      "source": [
        "**Extracting highly and negatively correlated features**"
      ]
    },
    {
      "cell_type": "code",
      "metadata": {
        "id": "94IRLO5msoqi",
        "colab_type": "code",
        "colab": {}
      },
      "source": [
        "cols = df_numeric_corr.columns\n",
        "threshold = 0.5\n",
        "highly_corr_list = []\n",
        "for i in range(0, 9):\n",
        "    for j in range(i+1, 9):\n",
        "        if df_numeric_corr.iloc[i,j] >= threshold and df_numeric_corr.iloc[i,j]<1\\\n",
        "        or df_numeric_corr.iloc[i,j] <0 and df_numeric_corr.iloc[i,j]<=-threshold:\n",
        "            highly_corr_list.append([df_numeric_corr.iloc[i,j],i,j])"
      ],
      "execution_count": 0,
      "outputs": []
    },
    {
      "cell_type": "code",
      "metadata": {
        "id": "1CIZFWKxuka8",
        "colab_type": "code",
        "outputId": "899099d9-c902-484d-ec15-ee1cda0e4659",
        "colab": {
          "base_uri": "https://localhost:8080/",
          "height": 143
        }
      },
      "source": [
        " print(\"**The most correlated features among the numeric category with threshold of 0.5 for positive and -0.5 for negative correlation are**\")\n",
        " for v,i,j in highly_corr_list:\n",
        "    print(\"%s and %s = %.2f\" % (cols[i], cols[j], v))"
      ],
      "execution_count": 29,
      "outputs": [
        {
          "output_type": "stream",
          "text": [
            "**The most correlated features among the numeric category with threshold of 0.5 for positive and -0.5 for negative correlation are**\n",
            "Elevation and Hor Dist Road = 0.61\n",
            "Aspect and Shade 9am = -0.65\n",
            "Aspect and Shade 3pm = 0.71\n",
            "Slope and Shade Noon = -0.57\n",
            "Hor Dist Hydro and Ver Dist Hydro = 0.58\n",
            "Shade 9am and Shade 3pm = -0.76\n"
          ],
          "name": "stdout"
        }
      ]
    },
    {
      "cell_type": "markdown",
      "metadata": {
        "id": "FT-8zG6Xg7rz",
        "colab_type": "text"
      },
      "source": [
        "Having highly correlated features (both positive and negative) is a type of redundancy in features they do not convey extra information. This means the regression coefficients are not uniquely determined. In turn it affects the interpretability of the model as then the regression coefficients are not unique and have influences from other features. Where as less correlated value tell us that the features have different valueable information to tell us and model, hence important features for predictions.\n",
        "\n",
        "**Solution:**\n",
        "\n",
        "> * Reduce the number of features through a feature extraction technique (e.g., via principal components)\n",
        "> * Greedy Elimination and Recursive Feature Elimination to iteratively elimnate features with respect to their correlation to other features and their importance.\n",
        " "
      ]
    },
    {
      "cell_type": "markdown",
      "metadata": {
        "id": "e-MM7nk-cLnK",
        "colab_type": "text"
      },
      "source": [
        "**Function for counting the occurences of each of the wilderness area for the cover type 3**"
      ]
    },
    {
      "cell_type": "code",
      "metadata": {
        "id": "FrlK1H-OOfWi",
        "colab_type": "code",
        "colab": {}
      },
      "source": [
        "def count_of_occurences(Wild_Area):\n",
        "    count = 0\n",
        "    for i in range(len(Wild_Area)):\n",
        "        if Wild_Area[i] == 1:\n",
        "            count = count + 1\n",
        "    return count"
      ],
      "execution_count": 0,
      "outputs": []
    },
    {
      "cell_type": "code",
      "metadata": {
        "id": "M58JV4X4OfFg",
        "colab_type": "code",
        "colab": {}
      },
      "source": [
        "count_area1 = count_of_occurences(Wild_Area1)\n",
        "count_area2 = count_of_occurences(Wild_Area2)\n",
        "count_area3 = count_of_occurences(Wild_Area3)\n",
        "count_area4 = count_of_occurences(Wild_Area4)"
      ],
      "execution_count": 0,
      "outputs": []
    },
    {
      "cell_type": "markdown",
      "metadata": {
        "id": "WONcMSvocsea",
        "colab_type": "text"
      },
      "source": [
        "**Plotting of Pie chart to visualize the dominant wilderness area for cover type 3**"
      ]
    },
    {
      "cell_type": "code",
      "metadata": {
        "id": "Xe2WrrKJOfBx",
        "colab_type": "code",
        "outputId": "6c8c9854-fbb5-4772-e438-d618bf6855c4",
        "colab": {
          "base_uri": "https://localhost:8080/",
          "height": 293
        }
      },
      "source": [
        "labels = 'Wild Area 1', 'Wild Area 2', 'Wild Area 3', 'Wild Area 4'\n",
        "sizes = [count_area1, count_area2, count_area3, count_area4]\n",
        "colors = ['gold', 'yellowgreen', 'lightcoral', 'lightskyblue']\n",
        "patches, texts, percent = plt.pie(sizes, colors=colors, shadow=True, startangle=90, autopct='%1.1f%%')\n",
        "plt.legend(patches, labels, loc=\"best\")\n",
        "plt.axis('equal')\n",
        "plt.tight_layout()\n",
        "plt.show()"
      ],
      "execution_count": 32,
      "outputs": [
        {
          "output_type": "display_data",
          "data": {
            "image/png": "[encoded data removed]",
            "text/plain": [
              "<Figure size 432x288 with 1 Axes>"
            ]
          },
          "metadata": {
            "tags": []
          }
        }
      ]
    },
    {
      "cell_type": "markdown",
      "metadata": {
        "id": "0Zqz2WMCm98j",
        "colab_type": "text"
      },
      "source": [
        "From the graph it is clear that the wilderness area 1 and 2 does not contribute for predicting the cover type 3. Hence it would be adivisable to use  weights for each area which adapts itself such that it weighs the area with dominant occurrence the highest and then slashes the weights for the other area in descending order."
      ]
    },
    {
      "cell_type": "markdown",
      "metadata": {
        "id": "6bdl4sIhd7OV",
        "colab_type": "text"
      },
      "source": [
        "**Collecting the occurences of each soil type with respect to cover type 3**"
      ]
    },
    {
      "cell_type": "code",
      "metadata": {
        "id": "wUH_mn0wuV5c",
        "colab_type": "code",
        "outputId": "9ffab8e9-096c-408d-92f9-6d06e75e109f",
        "colab": {
          "base_uri": "https://localhost:8080/",
          "height": 737
        }
      },
      "source": [
        "count = []\n",
        "for i in range(40):\n",
        "    soil_type_entries = [row[i] for row in Soil_type]\n",
        "    count.append(sum(soil_type_entries))\n",
        "\n",
        "j = 0\n",
        "for i in range(len(count)):\n",
        "    j=j+1\n",
        "    print(\"The number of observations in Soil Type {} = {}\".format(j, count[i]))"
      ],
      "execution_count": 33,
      "outputs": [
        {
          "output_type": "stream",
          "text": [
            "The number of observations in Soil Type 1 = 213.0\n",
            "The number of observations in Soil Type 2 = 494.0\n",
            "The number of observations in Soil Type 3 = 226.0\n",
            "The number of observations in Soil Type 4 = 703.0\n",
            "The number of observations in Soil Type 5 = 118.0\n",
            "The number of observations in Soil Type 6 = 387.0\n",
            "The number of observations in Soil Type 7 = 0.0\n",
            "The number of observations in Soil Type 8 = 0.0\n",
            "The number of observations in Soil Type 9 = 0.0\n",
            "The number of observations in Soil Type 10 = 1155.0\n",
            "The number of observations in Soil Type 11 = 158.0\n",
            "The number of observations in Soil Type 12 = 0.0\n",
            "The number of observations in Soil Type 13 = 2.0\n",
            "The number of observations in Soil Type 14 = 12.0\n",
            "The number of observations in Soil Type 15 = 0.0\n",
            "The number of observations in Soil Type 16 = 14.0\n",
            "The number of observations in Soil Type 17 = 46.0\n",
            "The number of observations in Soil Type 18 = 0.0\n",
            "The number of observations in Soil Type 19 = 0.0\n",
            "The number of observations in Soil Type 20 = 0.0\n",
            "The number of observations in Soil Type 21 = 0.0\n",
            "The number of observations in Soil Type 22 = 0.0\n",
            "The number of observations in Soil Type 23 = 0.0\n",
            "The number of observations in Soil Type 24 = 0.0\n",
            "The number of observations in Soil Type 25 = 0.0\n",
            "The number of observations in Soil Type 26 = 0.0\n",
            "The number of observations in Soil Type 27 = 0.0\n",
            "The number of observations in Soil Type 28 = 0.0\n",
            "The number of observations in Soil Type 29 = 0.0\n",
            "The number of observations in Soil Type 30 = 0.0\n",
            "The number of observations in Soil Type 31 = 0.0\n",
            "The number of observations in Soil Type 32 = 13.0\n",
            "The number of observations in Soil Type 33 = 0.0\n",
            "The number of observations in Soil Type 34 = 0.0\n",
            "The number of observations in Soil Type 35 = 0.0\n",
            "The number of observations in Soil Type 36 = 0.0\n",
            "The number of observations in Soil Type 37 = 0.0\n",
            "The number of observations in Soil Type 38 = 0.0\n",
            "The number of observations in Soil Type 39 = 0.0\n",
            "The number of observations in Soil Type 40 = 0.0\n"
          ],
          "name": "stdout"
        }
      ]
    },
    {
      "cell_type": "markdown",
      "metadata": {
        "id": "J_TYc8TxeNJI",
        "colab_type": "text"
      },
      "source": [
        "**Plotting of Bar Graph to visualize the significant soil type that contribute to the prediction of cover type 3**"
      ]
    },
    {
      "cell_type": "code",
      "metadata": {
        "id": "OMwR3gEjM4hE",
        "colab_type": "code",
        "outputId": "ef4bbce4-596f-461f-fa96-7bc77592e38f",
        "colab": {
          "base_uri": "https://localhost:8080/",
          "height": 620
        }
      },
      "source": [
        "plt.figure(figsize=(15,10))\n",
        "plt.bar(range(1, 41), count)\n",
        "#rcParams['figure.figsize'] = 5, 10\n",
        "\n",
        "plt.xlim([1, 41])\n",
        "plt.ylim([0, 1200])\n",
        "plt.yticks(np.arange(0, 1200, 100), size=20)\n",
        "plt.xticks(np.arange(1, 41, 1), size = 13)\n",
        "plt.xlabel('Soil Types from 1 to 40', fontsize=20)\n",
        "plt.ylabel('Number of observations', fontsize=20)\n",
        "plt.show()"
      ],
      "execution_count": 34,
      "outputs": [
        {
          "output_type": "display_data",
          "data": {
            "image/png": "[encoded data removed]",
            "text/plain": [
              "<Figure size 1080x720 with 1 Axes>"
            ]
          },
          "metadata": {
            "tags": []
          }
        }
      ]
    },
    {
      "cell_type": "markdown",
      "metadata": {
        "id": "NU14fKcSoRYR",
        "colab_type": "text"
      },
      "source": [
        "There are 40 soil types which is really useful to perform feature extraction. From the graph we can come to a conclusion that there are only handful of soil type which are critical in predicting the desired cover type. \n",
        "The optimal way to handle this category of features will be to drop out all the soil types that have no or zero occurrences for the cover type 3.\n",
        "Then use weighing technique for each soil type because simply assigning weights to all the soil types without dropping the least significant ones will not be logical as it will sum up to zero anyways."
      ]
    },
    {
      "cell_type": "code",
      "metadata": {
        "id": "SJpeCFQbvgKN",
        "colab_type": "code",
        "colab": {}
      },
      "source": [
        ""
      ],
      "execution_count": 0,
      "outputs": []
    },
    {
      "cell_type": "code",
      "metadata": {
        "id": "gl5stynhvgF0",
        "colab_type": "code",
        "colab": {}
      },
      "source": [
        ""
      ],
      "execution_count": 0,
      "outputs": []
    },
    {
      "cell_type": "markdown",
      "metadata": {
        "id": "Fm_q6O0Rq4MX",
        "colab_type": "text"
      },
      "source": [
        "# **Rough Work - Not for evaluation**"
      ]
    },
    {
      "cell_type": "code",
      "metadata": {
        "id": "at6NZBQOjFyM",
        "colab_type": "code",
        "colab": {
          "base_uri": "https://localhost:8080/",
          "height": 392
        },
        "outputId": "721b2d71-bf38-48e7-e4ed-97b0a3d76d68"
      },
      "source": [
        "X = df_numeric  #independent columns\n",
        "y = df_target_covertype_true    #target column i.e price range\n",
        "#apply SelectKBest class to extract top 10 best features\n",
        "bestfeatures = SelectKBest(score_func=chi2, k=10)\n",
        "fit = bestfeatures.fit(X,y)\n",
        "dfscores = pd.DataFrame(fit.scores_)\n",
        "dfcolumns = pd.DataFrame(X.columns)\n",
        "#concat two dataframes for better visualization \n",
        "featureScores = pd.concat([dfcolumns,dfscores],axis=1)\n",
        "featureScores.columns = ['Specs','Score']  #naming the dataframe columns\n",
        "print(featureScores.nlargest(10,'Score')) "
      ],
      "execution_count": 67,
      "outputs": [
        {
          "output_type": "error",
          "ename": "ValueError",
          "evalue": "ignored",
          "traceback": [
            "\u001b[0;31m---------------------------------------------------------------------------\u001b[0m",
            "\u001b[0;31mValueError\u001b[0m                                Traceback (most recent call last)",
            "\u001b[0;32m<ipython-input-67-820dddb8ba69>\u001b[0m in \u001b[0;36m<module>\u001b[0;34m()\u001b[0m\n\u001b[1;32m      3\u001b[0m \u001b[0;31m#apply SelectKBest class to extract top 10 best features\u001b[0m\u001b[0;34m\u001b[0m\u001b[0;34m\u001b[0m\u001b[0;34m\u001b[0m\u001b[0m\n\u001b[1;32m      4\u001b[0m \u001b[0mbestfeatures\u001b[0m \u001b[0;34m=\u001b[0m \u001b[0mSelectKBest\u001b[0m\u001b[0;34m(\u001b[0m\u001b[0mscore_func\u001b[0m\u001b[0;34m=\u001b[0m\u001b[0mchi2\u001b[0m\u001b[0;34m,\u001b[0m \u001b[0mk\u001b[0m\u001b[0;34m=\u001b[0m\u001b[0;36m10\u001b[0m\u001b[0;34m)\u001b[0m\u001b[0;34m\u001b[0m\u001b[0;34m\u001b[0m\u001b[0m\n\u001b[0;32m----> 5\u001b[0;31m \u001b[0mfit\u001b[0m \u001b[0;34m=\u001b[0m \u001b[0mbestfeatures\u001b[0m\u001b[0;34m.\u001b[0m\u001b[0mfit\u001b[0m\u001b[0;34m(\u001b[0m\u001b[0mX\u001b[0m\u001b[0;34m,\u001b[0m\u001b[0my\u001b[0m\u001b[0;34m)\u001b[0m\u001b[0;34m\u001b[0m\u001b[0;34m\u001b[0m\u001b[0m\n\u001b[0m\u001b[1;32m      6\u001b[0m \u001b[0mdfscores\u001b[0m \u001b[0;34m=\u001b[0m \u001b[0mpd\u001b[0m\u001b[0;34m.\u001b[0m\u001b[0mDataFrame\u001b[0m\u001b[0;34m(\u001b[0m\u001b[0mfit\u001b[0m\u001b[0;34m.\u001b[0m\u001b[0mscores_\u001b[0m\u001b[0;34m)\u001b[0m\u001b[0;34m\u001b[0m\u001b[0;34m\u001b[0m\u001b[0m\n\u001b[1;32m      7\u001b[0m \u001b[0mdfcolumns\u001b[0m \u001b[0;34m=\u001b[0m \u001b[0mpd\u001b[0m\u001b[0;34m.\u001b[0m\u001b[0mDataFrame\u001b[0m\u001b[0;34m(\u001b[0m\u001b[0mX\u001b[0m\u001b[0;34m.\u001b[0m\u001b[0mcolumns\u001b[0m\u001b[0;34m)\u001b[0m\u001b[0;34m\u001b[0m\u001b[0;34m\u001b[0m\u001b[0m\n",
            "\u001b[0;32m/usr/local/lib/python3.6/dist-packages/sklearn/feature_selection/univariate_selection.py\u001b[0m in \u001b[0;36mfit\u001b[0;34m(self, X, y)\u001b[0m\n\u001b[1;32m    347\u001b[0m \u001b[0;34m\u001b[0m\u001b[0m\n\u001b[1;32m    348\u001b[0m         \u001b[0mself\u001b[0m\u001b[0;34m.\u001b[0m\u001b[0m_check_params\u001b[0m\u001b[0;34m(\u001b[0m\u001b[0mX\u001b[0m\u001b[0;34m,\u001b[0m \u001b[0my\u001b[0m\u001b[0;34m)\u001b[0m\u001b[0;34m\u001b[0m\u001b[0;34m\u001b[0m\u001b[0m\n\u001b[0;32m--> 349\u001b[0;31m         \u001b[0mscore_func_ret\u001b[0m \u001b[0;34m=\u001b[0m \u001b[0mself\u001b[0m\u001b[0;34m.\u001b[0m\u001b[0mscore_func\u001b[0m\u001b[0;34m(\u001b[0m\u001b[0mX\u001b[0m\u001b[0;34m,\u001b[0m \u001b[0my\u001b[0m\u001b[0;34m)\u001b[0m\u001b[0;34m\u001b[0m\u001b[0;34m\u001b[0m\u001b[0m\n\u001b[0m\u001b[1;32m    350\u001b[0m         \u001b[0;32mif\u001b[0m \u001b[0misinstance\u001b[0m\u001b[0;34m(\u001b[0m\u001b[0mscore_func_ret\u001b[0m\u001b[0;34m,\u001b[0m \u001b[0;34m(\u001b[0m\u001b[0mlist\u001b[0m\u001b[0;34m,\u001b[0m \u001b[0mtuple\u001b[0m\u001b[0;34m)\u001b[0m\u001b[0;34m)\u001b[0m\u001b[0;34m:\u001b[0m\u001b[0;34m\u001b[0m\u001b[0;34m\u001b[0m\u001b[0m\n\u001b[1;32m    351\u001b[0m             \u001b[0mself\u001b[0m\u001b[0;34m.\u001b[0m\u001b[0mscores_\u001b[0m\u001b[0;34m,\u001b[0m \u001b[0mself\u001b[0m\u001b[0;34m.\u001b[0m\u001b[0mpvalues_\u001b[0m \u001b[0;34m=\u001b[0m \u001b[0mscore_func_ret\u001b[0m\u001b[0;34m\u001b[0m\u001b[0;34m\u001b[0m\u001b[0m\n",
            "\u001b[0;32m/usr/local/lib/python3.6/dist-packages/sklearn/feature_selection/univariate_selection.py\u001b[0m in \u001b[0;36mchi2\u001b[0;34m(X, y)\u001b[0m\n\u001b[1;32m    214\u001b[0m     \u001b[0mX\u001b[0m \u001b[0;34m=\u001b[0m \u001b[0mcheck_array\u001b[0m\u001b[0;34m(\u001b[0m\u001b[0mX\u001b[0m\u001b[0;34m,\u001b[0m \u001b[0maccept_sparse\u001b[0m\u001b[0;34m=\u001b[0m\u001b[0;34m'csr'\u001b[0m\u001b[0;34m)\u001b[0m\u001b[0;34m\u001b[0m\u001b[0;34m\u001b[0m\u001b[0m\n\u001b[1;32m    215\u001b[0m     \u001b[0;32mif\u001b[0m \u001b[0mnp\u001b[0m\u001b[0;34m.\u001b[0m\u001b[0many\u001b[0m\u001b[0;34m(\u001b[0m\u001b[0;34m(\u001b[0m\u001b[0mX\u001b[0m\u001b[0;34m.\u001b[0m\u001b[0mdata\u001b[0m \u001b[0;32mif\u001b[0m \u001b[0missparse\u001b[0m\u001b[0;34m(\u001b[0m\u001b[0mX\u001b[0m\u001b[0;34m)\u001b[0m \u001b[0;32melse\u001b[0m \u001b[0mX\u001b[0m\u001b[0;34m)\u001b[0m \u001b[0;34m<\u001b[0m \u001b[0;36m0\u001b[0m\u001b[0;34m)\u001b[0m\u001b[0;34m:\u001b[0m\u001b[0;34m\u001b[0m\u001b[0;34m\u001b[0m\u001b[0m\n\u001b[0;32m--> 216\u001b[0;31m         \u001b[0;32mraise\u001b[0m \u001b[0mValueError\u001b[0m\u001b[0;34m(\u001b[0m\u001b[0;34m\"Input X must be non-negative.\"\u001b[0m\u001b[0;34m)\u001b[0m\u001b[0;34m\u001b[0m\u001b[0;34m\u001b[0m\u001b[0m\n\u001b[0m\u001b[1;32m    217\u001b[0m \u001b[0;34m\u001b[0m\u001b[0m\n\u001b[1;32m    218\u001b[0m     \u001b[0mY\u001b[0m \u001b[0;34m=\u001b[0m \u001b[0mLabelBinarizer\u001b[0m\u001b[0;34m(\u001b[0m\u001b[0;34m)\u001b[0m\u001b[0;34m.\u001b[0m\u001b[0mfit_transform\u001b[0m\u001b[0;34m(\u001b[0m\u001b[0my\u001b[0m\u001b[0;34m)\u001b[0m\u001b[0;34m\u001b[0m\u001b[0;34m\u001b[0m\u001b[0m\n",
            "\u001b[0;31mValueError\u001b[0m: Input X must be non-negative."
          ]
        }
      ]
    },
    {
      "cell_type": "code",
      "metadata": {
        "id": "8rcaIr_3jFu1",
        "colab_type": "code",
        "colab": {
          "base_uri": "https://localhost:8080/",
          "height": 419
        },
        "outputId": "8ccb9291-a130-44b5-bbee-733b0dc9bdd6"
      },
      "source": [
        "df_target_covertype_true"
      ],
      "execution_count": 66,
      "outputs": [
        {
          "output_type": "execute_result",
          "data": {
            "text/html": [
              "<div>\n",
              "<style scoped>\n",
              "    .dataframe tbody tr th:only-of-type {\n",
              "        vertical-align: middle;\n",
              "    }\n",
              "\n",
              "    .dataframe tbody tr th {\n",
              "        vertical-align: top;\n",
              "    }\n",
              "\n",
              "    .dataframe thead th {\n",
              "        text-align: right;\n",
              "    }\n",
              "</style>\n",
              "<table border=\"1\" class=\"dataframe\">\n",
              "  <thead>\n",
              "    <tr style=\"text-align: right;\">\n",
              "      <th></th>\n",
              "      <th>Target</th>\n",
              "    </tr>\n",
              "  </thead>\n",
              "  <tbody>\n",
              "    <tr>\n",
              "      <th>0</th>\n",
              "      <td>1</td>\n",
              "    </tr>\n",
              "    <tr>\n",
              "      <th>1</th>\n",
              "      <td>1</td>\n",
              "    </tr>\n",
              "    <tr>\n",
              "      <th>2</th>\n",
              "      <td>1</td>\n",
              "    </tr>\n",
              "    <tr>\n",
              "      <th>3</th>\n",
              "      <td>1</td>\n",
              "    </tr>\n",
              "    <tr>\n",
              "      <th>4</th>\n",
              "      <td>1</td>\n",
              "    </tr>\n",
              "    <tr>\n",
              "      <th>...</th>\n",
              "      <td>...</td>\n",
              "    </tr>\n",
              "    <tr>\n",
              "      <th>3536</th>\n",
              "      <td>1</td>\n",
              "    </tr>\n",
              "    <tr>\n",
              "      <th>3537</th>\n",
              "      <td>1</td>\n",
              "    </tr>\n",
              "    <tr>\n",
              "      <th>3538</th>\n",
              "      <td>1</td>\n",
              "    </tr>\n",
              "    <tr>\n",
              "      <th>3539</th>\n",
              "      <td>1</td>\n",
              "    </tr>\n",
              "    <tr>\n",
              "      <th>3540</th>\n",
              "      <td>1</td>\n",
              "    </tr>\n",
              "  </tbody>\n",
              "</table>\n",
              "<p>3541 rows × 1 columns</p>\n",
              "</div>"
            ],
            "text/plain": [
              "      Target\n",
              "0          1\n",
              "1          1\n",
              "2          1\n",
              "3          1\n",
              "4          1\n",
              "...      ...\n",
              "3536       1\n",
              "3537       1\n",
              "3538       1\n",
              "3539       1\n",
              "3540       1\n",
              "\n",
              "[3541 rows x 1 columns]"
            ]
          },
          "metadata": {
            "tags": []
          },
          "execution_count": 66
        }
      ]
    },
    {
      "cell_type": "code",
      "metadata": {
        "id": "0ffU_PGIq0Ke",
        "colab_type": "code",
        "outputId": "4fed91cf-fc43-4673-cc98-e4d8c5f74083",
        "colab": {
          "base_uri": "https://localhost:8080/",
          "height": 53
        }
      },
      "source": [
        "print(\"Original data length={}\".format(len(dataset.data)))\n",
        "print(\"Sample data length={}\".format(len(random_sample.data)))"
      ],
      "execution_count": 0,
      "outputs": [
        {
          "output_type": "stream",
          "text": [
            "Original data length=581012\n",
            "Sample data length=58101\n"
          ],
          "name": "stdout"
        }
      ]
    },
    {
      "cell_type": "code",
      "metadata": {
        "id": "ds8t49qF7a6w",
        "colab_type": "code",
        "outputId": "c267cc61-0477-4aa6-a8d4-f28066da877e",
        "colab": {
          "base_uri": "https://localhost:8080/",
          "height": 89
        }
      },
      "source": [
        "print(\"shape of original data = {}\".format(dataset.data.shape))\n",
        "print(\"shape of sample data = {}\".format(random_sample.shape))\n",
        "print(\"shape of features = {}\".format(features.shape))\n",
        "print(\"shape of target = {}\".format(target.shape))"
      ],
      "execution_count": 0,
      "outputs": [
        {
          "output_type": "stream",
          "text": [
            "shape of original data = (581012, 54)\n",
            "shape of sample data = (58101,)\n",
            "shape of features = (58101, 54)\n",
            "shape of target = (58101,)\n"
          ],
          "name": "stdout"
        }
      ]
    },
    {
      "cell_type": "code",
      "metadata": {
        "id": "PU-Tf-n98rYk",
        "colab_type": "code",
        "colab": {}
      },
      "source": [
        "target = target.astype(int)"
      ],
      "execution_count": 0,
      "outputs": []
    },
    {
      "cell_type": "code",
      "metadata": {
        "id": "JcL82hDhXkHV",
        "colab_type": "code",
        "outputId": "02fd6a4d-eff3-4264-d0b0-fc5dd69097b7",
        "colab": {
          "base_uri": "https://localhost:8080/",
          "height": 297
        }
      },
      "source": [
        "def plot_confusion_matrix(cf, classes,\n",
        "                          normalize=False,\n",
        "                          title=None,\n",
        "                          cmap=plt.cm.Blues):\n",
        "   \n",
        "    #cm = confusion_matrix(y_true, y_pred)\n",
        "    plt.imshow(cf, interpolation='nearest', cmap=cmap)\n",
        "    plt.title(title)\n",
        "    plt.colorbar()\n",
        "    tick_marks = np.arange(len(classes))\n",
        "    plt.xticks(tick_marks, classes)\n",
        "    plt.yticks(tick_marks, classes)\n",
        "\n",
        "    thresh = cf.max() / 2.\n",
        "    for i, j in itertools.product(range(cf.shape[0]), range(cf.shape[1])):\n",
        "        plt.text(j, i, format(cf[i, j], 'd'),\n",
        "                  ha=\"left\", va=\"center_baseline\",\n",
        "                 color=\"white\" if cf[i, j] > thresh else \"black\")\n",
        "\n",
        "    plt.ylabel('True label')\n",
        "    plt.xlabel('Predicted label')\n",
        "    plt.tight_layout()\n",
        "\n",
        "\n",
        "# Plot non-normalized confusion matrix\n",
        "plt.figure()\n",
        "plot_confusion_matrix(cf, classes=[0, 1],\n",
        "                      title='Confusion matrix, without normalization')\n",
        "#'top', 'bottom', 'center', 'baseline', 'center_baseline'\n",
        "#'center', 'right', 'left'"
      ],
      "execution_count": 0,
      "outputs": [
        {
          "output_type": "display_data",
          "data": {
            "image/png": "[encoded data removed]",
            "text/plain": [
              "<Figure size 432x288 with 2 Axes>"
            ]
          },
          "metadata": {
            "tags": []
          }
        }
      ]
    },
    {
      "cell_type": "code",
      "metadata": {
        "id": "kyDX2-R-Z12W",
        "colab_type": "code",
        "outputId": "96a5cf67-4e66-4ca2-bbff-71676511675a",
        "colab": {
          "base_uri": "https://localhost:8080/",
          "height": 179
        }
      },
      "source": [
        "print(sklearn.metrics.classification_report(target, training_predictions))"
      ],
      "execution_count": 0,
      "outputs": [
        {
          "output_type": "stream",
          "text": [
            "              precision    recall  f1-score   support\n",
            "\n",
            "           0       0.98      0.98      0.98     54560\n",
            "           1       0.72      0.66      0.69      3541\n",
            "\n",
            "    accuracy                           0.96     58101\n",
            "   macro avg       0.85      0.82      0.83     58101\n",
            "weighted avg       0.96      0.96      0.96     58101\n",
            "\n"
          ],
          "name": "stdout"
        }
      ]
    },
    {
      "cell_type": "code",
      "metadata": {
        "id": "DeNbV1tV4JmK",
        "colab_type": "code",
        "colab": {}
      },
      "source": [
        "def metrics_score_check(class_name):\n",
        "    #print(\"The {} averaging metric values are as follows\".format(avg_tech))   \n",
        "    print(\"The precison score for class {} = {:0.4f}\".format(class_name, precision_score(target, training_predictions, pos_label=class_name, average=avg_tech)))\n",
        "    print(\"The recall score for class {} = {:0.4f}\".format(class_name, recall_score(target, training_predictions, pos_label=class_name, average=avg_tech)))\n",
        "    print(\"The F1 score for class {} = {:0.4f}\".format(class_name, f1_score(target, training_predictions, pos_label=class_name, average=avg_tech)))"
      ],
      "execution_count": 0,
      "outputs": []
    },
    {
      "cell_type": "code",
      "metadata": {
        "id": "X-VJIqVtRnE4",
        "colab_type": "code",
        "outputId": "ad4a13a3-ad5f-4796-cc28-64d4085eaf66",
        "colab": {
          "base_uri": "https://localhost:8080/",
          "height": 309
        }
      },
      "source": [
        "import pandas as pd\n",
        "\n",
        "i = np.arange(len(tpr)) # index for df\n",
        "roc = pd.DataFrame({'fpr' : pd.Series(fpr, index=i),'tpr' : pd.Series(tpr, index = i), '1-fpr' : pd.Series(1-fpr, index = i), 'tf' : pd.Series(tpr - (1-fpr), index = i), 'thresholds' : pd.Series(threshold, index = i)})\n",
        "roc.ix[(roc.tf-0).abs().argsort()[:1]]\n",
        "\n",
        "# Plot tpr vs 1-fpr\n",
        "fig, ax = plt.subplots()\n",
        "plt.plot(roc['tpr'])\n",
        "plt.plot(roc['1-fpr'], color = 'red')\n",
        "plt.xlabel('1-False Positive Rate')\n",
        "plt.ylabel('True Positive Rate')\n",
        "plt.title('Receiver operating characteristic')\n",
        "ax.set_xticklabels([])"
      ],
      "execution_count": 0,
      "outputs": [
        {
          "output_type": "execute_result",
          "data": {
            "text/plain": [
              "[]"
            ]
          },
          "metadata": {
            "tags": []
          },
          "execution_count": 24
        },
        {
          "output_type": "display_data",
          "data": {
            "image/png": "[encoded data removed]",
            "text/plain": [
              "<Figure size 432x288 with 1 Axes>"
            ]
          },
          "metadata": {
            "tags": []
          }
        }
      ]
    },
    {
      "cell_type": "code",
      "metadata": {
        "id": "WBA7hRrLRoBb",
        "colab_type": "code",
        "colab": {}
      },
      "source": [
        "#specific_features = []\n",
        "#numeric_specific_features = []\n",
        "#binary_specific_features_soil_types = []\n",
        "#binary_specific_features_Wilderness_Area = []\n",
        "\n",
        "#for i in range(len(target_covertype)):\n",
        "    #if target_covertype[i] == 1:\n",
        "       #specific_features.append(features[i])\n",
        "\n",
        "#for i in range(len(specific_features)):\n",
        "    #numeric_specific_features.append(specific_features[i][0:10])\n",
        "\n",
        "#for i in range(len(specific_features)):\n",
        "    #binary_specific_features_Wilderness_Area.append(specific_features[i][10:14])\n",
        "\n",
        "#for i in range(len(specific_features)):\n",
        "    #.append(specific_features[i][14:])\n"
      ],
      "execution_count": 0,
      "outputs": []
    },
    {
      "cell_type": "code",
      "metadata": {
        "id": "qvPy-QITRSvw",
        "colab_type": "code",
        "colab": {}
      },
      "source": [
        ""
      ],
      "execution_count": 0,
      "outputs": []
    },
    {
      "cell_type": "code",
      "metadata": {
        "id": "0II_f8Gopra9",
        "colab_type": "code",
        "outputId": "2699639a-e078-4bd7-f4cc-0e05ed98ec60",
        "colab": {
          "base_uri": "https://localhost:8080/",
          "height": 737
        }
      },
      "source": [
        ""
      ],
      "execution_count": 0,
      "outputs": [
        {
          "output_type": "stream",
          "text": [
            "The number of observations in Soil Type 1 = 213.0\n",
            "The number of observations in Soil Type 2 = 494.0\n",
            "The number of observations in Soil Type 3 = 226.0\n",
            "The number of observations in Soil Type 4 = 703.0\n",
            "The number of observations in Soil Type 5 = 118.0\n",
            "The number of observations in Soil Type 6 = 387.0\n",
            "The number of observations in Soil Type 7 = 0.0\n",
            "The number of observations in Soil Type 8 = 0.0\n",
            "The number of observations in Soil Type 9 = 0.0\n",
            "The number of observations in Soil Type 10 = 1155.0\n",
            "The number of observations in Soil Type 11 = 158.0\n",
            "The number of observations in Soil Type 12 = 0.0\n",
            "The number of observations in Soil Type 13 = 2.0\n",
            "The number of observations in Soil Type 14 = 12.0\n",
            "The number of observations in Soil Type 15 = 0.0\n",
            "The number of observations in Soil Type 16 = 14.0\n",
            "The number of observations in Soil Type 17 = 46.0\n",
            "The number of observations in Soil Type 18 = 0.0\n",
            "The number of observations in Soil Type 19 = 0.0\n",
            "The number of observations in Soil Type 20 = 0.0\n",
            "The number of observations in Soil Type 21 = 0.0\n",
            "The number of observations in Soil Type 22 = 0.0\n",
            "The number of observations in Soil Type 23 = 0.0\n",
            "The number of observations in Soil Type 24 = 0.0\n",
            "The number of observations in Soil Type 25 = 0.0\n",
            "The number of observations in Soil Type 26 = 0.0\n",
            "The number of observations in Soil Type 27 = 0.0\n",
            "The number of observations in Soil Type 28 = 0.0\n",
            "The number of observations in Soil Type 29 = 0.0\n",
            "The number of observations in Soil Type 30 = 0.0\n",
            "The number of observations in Soil Type 31 = 0.0\n",
            "The number of observations in Soil Type 32 = 13.0\n",
            "The number of observations in Soil Type 33 = 0.0\n",
            "The number of observations in Soil Type 34 = 0.0\n",
            "The number of observations in Soil Type 35 = 0.0\n",
            "The number of observations in Soil Type 36 = 0.0\n",
            "The number of observations in Soil Type 37 = 0.0\n",
            "The number of observations in Soil Type 38 = 0.0\n",
            "The number of observations in Soil Type 39 = 0.0\n",
            "The number of observations in Soil Type 40 = 0.0\n"
          ],
          "name": "stdout"
        }
      ]
    },
    {
      "cell_type": "code",
      "metadata": {
        "id": "qpxdDC2YRLXn",
        "colab_type": "code",
        "colab": {}
      },
      "source": [
        "for x in range(1,10):\n",
        "        d[\"string{0}\".format(x)]=\"Hello\""
      ],
      "execution_count": 0,
      "outputs": []
    }
  ]
}